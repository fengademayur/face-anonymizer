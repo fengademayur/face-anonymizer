{
 "cells": [
  {
   "cell_type": "code",
   "execution_count": 64,
   "id": "cc4f7d1b",
   "metadata": {},
   "outputs": [],
   "source": [
    "import cv2\n",
    "import mediapipe as mp"
   ]
  },
  {
   "cell_type": "markdown",
   "id": "64185417",
   "metadata": {},
   "source": [
    "Function to detect faces and apply blur"
   ]
  },
  {
   "cell_type": "code",
   "execution_count": 65,
   "id": "233dacb7",
   "metadata": {},
   "outputs": [],
   "source": [
    "\n",
    "def detect_and_blur_faces(frame, face_detector, apply_blur):\n",
    "    height, width, _ = frame.shape\n",
    "\n",
    "    # Convert the frame to RGB for processing with MediaPipe\n",
    "    frame_rgb = cv2.cvtColor(frame, cv2.COLOR_BGR2RGB)\n",
    "    detection_results = face_detector.process(frame_rgb)\n",
    "\n",
    "    if detection_results.detections and apply_blur:\n",
    "        for detection in detection_results.detections:\n",
    "            bounding_box = detection.location_data.relative_bounding_box\n",
    "            x_min, y_min, box_width, box_height = bounding_box.xmin, bounding_box.ymin, bounding_box.width, bounding_box.height\n",
    "\n",
    "            # Convert relative values to absolute pixel values\n",
    "            x_min = int(x_min * width)\n",
    "            y_min = int(y_min * height)\n",
    "            box_width = int(box_width * width)\n",
    "            box_height = int(box_height * height)\n",
    "\n",
    "            # Apply blur to the detected face region\n",
    "            frame[y_min:y_min + box_height, x_min:x_min + box_width] = cv2.blur(frame[y_min:y_min + box_height, x_min:x_min + box_width], (30, 30))\n",
    "\n",
    "    return frame"
   ]
  },
  {
   "cell_type": "markdown",
   "id": "1c4b87cf",
   "metadata": {},
   "source": [
    "Initialize MediaPipe face detection"
   ]
  },
  {
   "cell_type": "code",
   "execution_count": 66,
   "id": "b6532408",
   "metadata": {},
   "outputs": [],
   "source": [
    "mp_face_detector = mp.solutions.face_detection\n",
    "face_detector = mp_face_detector.FaceDetection(min_detection_confidence=0.5)"
   ]
  },
  {
   "cell_type": "markdown",
   "id": "75db68a1",
   "metadata": {},
   "source": [
    "Set Up Webcam Capture and Key Handling for Blurring Control"
   ]
  },
  {
   "cell_type": "code",
   "execution_count": 67,
   "id": "5afc58c5",
   "metadata": {},
   "outputs": [
    {
     "name": "stdout",
     "output_type": "stream",
     "text": [
      "Blurring effect started\n",
      "Blurring effect stopped\n",
      "Blurring effect started\n",
      "Blurring effect stopped\n",
      "Blurring effect started\n",
      "Blurring effect stopped\n",
      "Blurring effect started\n",
      "Blurring effect stopped\n",
      "Blurring effect started\n",
      "Blurring effect stopped\n"
     ]
    }
   ],
   "source": [
    "webcam_stream = cv2.VideoCapture(0)\n",
    "ret, current_frame = webcam_stream.read()\n",
    "apply_blur = False\n",
    "\n",
    "while ret:\n",
    "    current_frame = detect_and_blur_faces(current_frame, face_detector, apply_blur)\n",
    "    cv2.imshow('Webcam Face Detection and Blurring', current_frame)\n",
    "    key = cv2.waitKey(1) & 0xFF\n",
    "\n",
    "    if key == ord('1'):\n",
    "        apply_blur = True\n",
    "        print(\"Blurring effect started\")\n",
    "\n",
    "    if key == ord('0'):\n",
    "        apply_blur = False\n",
    "        print(\"Blurring effect stopped\")\n",
    "\n",
    "    if key == ord('2'):\n",
    "        break\n",
    "\n",
    "    ret, current_frame = webcam_stream.read()\n",
    "\n",
    "webcam_stream.release()\n",
    "cv2.destroyAllWindows()\n"
   ]
  }
 ],
 "metadata": {
  "kernelspec": {
   "display_name": "Python 3 (ipykernel)",
   "language": "python",
   "name": "python3"
  },
  "language_info": {
   "codemirror_mode": {
    "name": "ipython",
    "version": 3
   },
   "file_extension": ".py",
   "mimetype": "text/x-python",
   "name": "python",
   "nbconvert_exporter": "python",
   "pygments_lexer": "ipython3",
   "version": "3.10.4"
  }
 },
 "nbformat": 4,
 "nbformat_minor": 5
}
